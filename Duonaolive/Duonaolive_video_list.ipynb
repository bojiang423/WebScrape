{
 "cells": [
  {
   "cell_type": "markdown",
   "metadata": {},
   "source": [
    "### Project Decription: To get all the videos in duonaolive.com, and output to a excel file\n",
    "\n",
    "Video information includes name, type, year, link, cast list, "
   ]
  },
  {
   "cell_type": "code",
   "execution_count": 6,
   "metadata": {},
   "outputs": [],
   "source": [
    "# import libraries\n",
    "from bs4 import BeautifulSoup\n",
    "import requests\n",
    "import pandas as pd\n",
    "import numpy as np"
   ]
  },
  {
   "cell_type": "code",
   "execution_count": 2,
   "metadata": {},
   "outputs": [
    {
     "data": {
      "text/plain": [
       "['1', '2', '3', '4']"
      ]
     },
     "execution_count": 2,
     "metadata": {},
     "output_type": "execute_result"
    }
   ],
   "source": [
    "video_types = ['1','2','3','4'] #1-Movie 2-TV Play 3-TV Show 4-Animation\n",
    "video_types"
   ]
  },
  {
   "cell_type": "code",
   "execution_count": 3,
   "metadata": {},
   "outputs": [],
   "source": [
    "# get html and print it\n",
    "#url = \"https://duonaolive.com/list?type=1&page=1\"\n",
    "#page = requests.get(url.format(video_type, page_nbr))\n",
    "#soup = BeautifulSoup(page.content, 'html.parser')\n",
    "#print(soup.prettify())"
   ]
  },
  {
   "cell_type": "code",
   "execution_count": 12,
   "metadata": {},
   "outputs": [],
   "source": [
    "# get all the movie names and links\n",
    "\n",
    "def get_video_list(video_type):\n",
    "    \n",
    "    video_names = []\n",
    "    video_detail_links = []\n",
    "\n",
    "    eop = False\n",
    "    page_nbr = 1\n",
    "    while not eop:\n",
    "        url = \"https://duonaolive.com/list?type={}&page={}\"\n",
    "        page = requests.get(url.format(video_type, page_nbr))\n",
    "        soup = BeautifulSoup(page.content, 'html.parser')\n",
    "        links = soup.find_all(\"a\", class_=\"title\")\n",
    "        if len(links) > 0:\n",
    "            for link in links:\n",
    "                video_names.append(link.get_text().replace('\\n',''))\n",
    "                video_detail_links.append(link.get('href'))\n",
    "        else:\n",
    "            eop = True\n",
    "\n",
    "        # remove this later\n",
    "        if page_nbr == 20:\n",
    "            eop = True \n",
    "            \n",
    "        # print progress\n",
    "        if page_nbr % 5 == 0 or eop:\n",
    "            print(\"{} pages loaded, {} videos found\".format(page_nbr, len(video_names)))\n",
    "            \n",
    "        page_nbr = page_nbr + 1\n",
    "\n",
    "    return video_names, video_detail_links"
   ]
  },
  {
   "cell_type": "code",
   "execution_count": 13,
   "metadata": {},
   "outputs": [
    {
     "name": "stdout",
     "output_type": "stream",
     "text": [
      "video type 1\n",
      "5 pages loaded, 125 videos found\n",
      "10 pages loaded, 250 videos found\n",
      "15 pages loaded, 375 videos found\n",
      "20 pages loaded, 500 videos found\n",
      "video type 2\n",
      "5 pages loaded, 125 videos found\n",
      "10 pages loaded, 249 videos found\n",
      "15 pages loaded, 371 videos found\n",
      "20 pages loaded, 496 videos found\n",
      "video type 3\n",
      "5 pages loaded, 125 videos found\n",
      "10 pages loaded, 250 videos found\n",
      "15 pages loaded, 375 videos found\n",
      "20 pages loaded, 498 videos found\n",
      "video type 4\n",
      "5 pages loaded, 125 videos found\n",
      "10 pages loaded, 250 videos found\n",
      "15 pages loaded, 375 videos found\n",
      "20 pages loaded, 500 videos found\n"
     ]
    }
   ],
   "source": [
    "for video_type in video_types:\n",
    "    print(\"video type {}\".format(video_type))\n",
    "    video_names, video_detail_links = get_video_list(video_type)\n",
    "    df = pd.DataFrame(np.vstack((video_names, video_detail_links)).T)\n",
    "    df.to_excel(excel_writer = \"video {}.xlsx\".format(video_type))"
   ]
  },
  {
   "cell_type": "code",
   "execution_count": null,
   "metadata": {},
   "outputs": [],
   "source": [
    "# detail page for the videos\n",
    "url2 = 'https://duonaolive.com/detail?id=d911172ed239ce3089a828ed7c13a4534462b316ca84a03f811f4450cb7fd523'\n",
    "page2 = requests.get(url2)\n",
    "soup2 = BeautifulSoup(page2.content, 'html.parser')\n",
    "print(soup2.prettify())"
   ]
  },
  {
   "cell_type": "code",
   "execution_count": null,
   "metadata": {},
   "outputs": [],
   "source": [
    "# Use find_all to get certain element\n",
    "meta_list = soup2.find_all(\"meta\")\n",
    "for meta in meta_list:\n",
    "    if meta.get(\"name\") == \"description\":\n",
    "        print(meta.get(\"content\"))"
   ]
  },
  {
   "cell_type": "code",
   "execution_count": null,
   "metadata": {},
   "outputs": [],
   "source": [
    "# Use find to get certain element\n",
    "# get first \"meta\"\n",
    "meta1 = soup2.find(\"meta\") \n",
    "\n",
    "# look for \"meta\" with correct content\n",
    "while meta1 != None:\n",
    "    if meta1.get(\"name\") == \"description\":\n",
    "        print(meta1.get(\"content\"))\n",
    "    \n",
    "    meta1 = meta1.find_next(\"meta\")"
   ]
  },
  {
   "cell_type": "code",
   "execution_count": null,
   "metadata": {},
   "outputs": [],
   "source": []
  },
  {
   "cell_type": "code",
   "execution_count": null,
   "metadata": {},
   "outputs": [],
   "source": []
  },
  {
   "cell_type": "code",
   "execution_count": null,
   "metadata": {},
   "outputs": [],
   "source": []
  },
  {
   "cell_type": "code",
   "execution_count": null,
   "metadata": {},
   "outputs": [],
   "source": []
  },
  {
   "cell_type": "code",
   "execution_count": null,
   "metadata": {},
   "outputs": [],
   "source": []
  },
  {
   "cell_type": "code",
   "execution_count": null,
   "metadata": {},
   "outputs": [],
   "source": []
  }
 ],
 "metadata": {
  "kernelspec": {
   "display_name": "Python 3",
   "language": "python",
   "name": "python3"
  },
  "language_info": {
   "codemirror_mode": {
    "name": "ipython",
    "version": 3
   },
   "file_extension": ".py",
   "mimetype": "text/x-python",
   "name": "python",
   "nbconvert_exporter": "python",
   "pygments_lexer": "ipython3",
   "version": "3.7.6"
  }
 },
 "nbformat": 4,
 "nbformat_minor": 4
}
